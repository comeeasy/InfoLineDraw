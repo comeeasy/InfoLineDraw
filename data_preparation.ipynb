{
 "cells": [
  {
   "cell_type": "code",
   "execution_count": 2,
   "metadata": {},
   "outputs": [],
   "source": [
    "import os\n",
    "from glob import glob\n",
    "import sys\n",
    "from tqdm import tqdm\n",
    "\n",
    "from sklearn.model_selection import train_test_split"
   ]
  },
  {
   "cell_type": "code",
   "execution_count": 3,
   "metadata": {},
   "outputs": [],
   "source": [
    "imgs = glob(os.path.join(\"dataset\", \"imgs\", \"*\"))\n",
    "sketches = glob(os.path.join(\"dataset\", \"vecsktch\", \"*\"))\n",
    "depths = glob(os.path.join(\"dataset\", \"depths\", \"*\"))"
   ]
  },
  {
   "cell_type": "code",
   "execution_count": 4,
   "metadata": {},
   "outputs": [
    {
     "name": "stdout",
     "output_type": "stream",
     "text": [
      "imgs: 2601, depths: 2601, sketches: 26050\n"
     ]
    }
   ],
   "source": [
    "print(f\"imgs: {len(imgs)}, depths: {len(depths)}, sketches: {len(sketches)}\")"
   ]
  },
  {
   "cell_type": "code",
   "execution_count": 5,
   "metadata": {},
   "outputs": [
    {
     "name": "stderr",
     "output_type": "stream",
     "text": [
      "100%|██████████| 2601/2601 [00:22<00:00, 117.07it/s]\n"
     ]
    }
   ],
   "source": [
    "valid_filenames = []\n",
    "\n",
    "for img_path in tqdm(imgs):\n",
    "    img_name = os.path.basename(img_path).split(\"_img\")[0]\n",
    "    \n",
    "    for sktch_path in sketches:\n",
    "        sktch_name = os.path.basename(sktch_path).split(\"_shifted\")[0]\n",
    "        \n",
    "        # print(f\"img name: {img_name}, sktch_name: {sktch_name}\")\n",
    "        \n",
    "        if img_name == sktch_name:\n",
    "            valid_filenames.append(img_name)\n",
    "            break\n",
    "    else:\n",
    "        print(f\"There is no matched file of {img_name}\")"
   ]
  },
  {
   "cell_type": "code",
   "execution_count": 6,
   "metadata": {},
   "outputs": [
    {
     "data": {
      "text/plain": [
       "2601"
      ]
     },
     "execution_count": 6,
     "metadata": {},
     "output_type": "execute_result"
    }
   ],
   "source": [
    "len(valid_filenames)"
   ]
  },
  {
   "cell_type": "code",
   "execution_count": 7,
   "metadata": {},
   "outputs": [
    {
     "data": {
      "text/plain": [
       "(2340, 261)"
      ]
     },
     "execution_count": 7,
     "metadata": {},
     "output_type": "execute_result"
    }
   ],
   "source": [
    "train_valid_filenames, test_valied_filenames = train_test_split(valid_filenames, test_size=0.1, random_state=22022)\n",
    "len(train_valid_filenames), len(test_valied_filenames)"
   ]
  },
  {
   "cell_type": "code",
   "execution_count": 8,
   "metadata": {},
   "outputs": [],
   "source": [
    "from_root = \"/home/joono/media2/workspace/InfoLineDraw/dataset\"\n",
    "to_root = \"/home/joono/media2/workspace/InfoLineDraw/train_dset\""
   ]
  },
  {
   "cell_type": "code",
   "execution_count": 12,
   "metadata": {},
   "outputs": [
    {
     "name": "stderr",
     "output_type": "stream",
     "text": [
      "100%|██████████| 686/686 [00:16<00:00, 41.54it/s]\n"
     ]
    }
   ],
   "source": [
    "print(len(train_valid_filenames))\n",
    "for filename in tqdm(train_valid_filenames):\n",
    "    \n",
    "    img_name = f\"{filename}_img.png\"\n",
    "    depth_name = f\"{filename}_img.png\"\n",
    "    sktch_name = f\"{filename}.bmp\"\n",
    "    dst_name = f\"{filename}.png\"\n",
    "    \n",
    "    img_path = os.path.join(from_root, \"imgs\", img_name)\n",
    "    depth_path = os.path.join(from_root, \"depths\", depth_name)\n",
    "    sktch_path = os.path.join(from_root, \"vecsktch_png\", sktch_name)\n",
    "    \n",
    "    dst_img_path = os.path.join(to_root, \"train\", \"imgs\", dst_name)\n",
    "    dst_depth_path = os.path.join(to_root, \"train\", \"depths\", dst_name)\n",
    "    dst_sktch_path = os.path.join(to_root, \"train\", \"sketches\", dst_name)\n",
    "    \n",
    "    os.system(f\"cp {img_path} {dst_img_path}\")\n",
    "    os.system(f\"cp {depth_path} {dst_depth_path}\")\n",
    "    os.system(f\"cp {sktch_path} {dst_sktch_path}\")"
   ]
  },
  {
   "cell_type": "code",
   "execution_count": 13,
   "metadata": {},
   "outputs": [
    {
     "name": "stdout",
     "output_type": "stream",
     "text": [
      "77\n"
     ]
    },
    {
     "name": "stderr",
     "output_type": "stream",
     "text": [
      "100%|██████████| 77/77 [00:02<00:00, 34.92it/s]\n"
     ]
    }
   ],
   "source": [
    "print(len(test_valied_filenames))\n",
    "for filename in tqdm(test_valied_filenames):\n",
    "    \n",
    "    img_name = f\"{filename}_img.png\"\n",
    "    depth_name = f\"{filename}_img.png\"\n",
    "    sktch_name = f\"{filename}.png\"\n",
    "    dst_name = f\"{filename}.png\"\n",
    "    \n",
    "    img_path = os.path.join(from_root, \"imgs\", img_name)\n",
    "    depth_path = os.path.join(from_root, \"depths\", depth_name)\n",
    "    sktch_path = os.path.join(from_root, \"vecsktch_png\", sktch_name)\n",
    "    \n",
    "    dst_img_path = os.path.join(to_root, \"test\", \"imgs\", dst_name)\n",
    "    dst_depth_path = os.path.join(to_root, \"test\", \"depths\", dst_name)\n",
    "    dst_sktch_path = os.path.join(to_root, \"test\", \"sketches\", dst_name)\n",
    "    \n",
    "    os.system(f\"cp {img_path} {dst_img_path}\")\n",
    "    os.system(f\"cp {depth_path} {dst_depth_path}\")\n",
    "    os.system(f\"cp {sktch_path} {dst_sktch_path}\")"
   ]
  },
  {
   "cell_type": "code",
   "execution_count": null,
   "metadata": {},
   "outputs": [],
   "source": []
  }
 ],
 "metadata": {
  "kernelspec": {
   "display_name": "base",
   "language": "python",
   "name": "python3"
  },
  "language_info": {
   "codemirror_mode": {
    "name": "ipython",
    "version": 3
   },
   "file_extension": ".py",
   "mimetype": "text/x-python",
   "name": "python",
   "nbconvert_exporter": "python",
   "pygments_lexer": "ipython3",
   "version": "3.11.7"
  }
 },
 "nbformat": 4,
 "nbformat_minor": 2
}
