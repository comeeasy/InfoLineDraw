{
 "cells": [
  {
   "cell_type": "code",
   "execution_count": 12,
   "metadata": {},
   "outputs": [],
   "source": [
    "import yaml\n",
    "import cv2\n",
    "\n",
    "from util.pseudo_sketches_webui_runner import WebuiAPI"
   ]
  },
  {
   "cell_type": "code",
   "execution_count": 13,
   "metadata": {},
   "outputs": [
    {
     "name": "stdout",
     "output_type": "stream",
     "text": [
      "bus girl boy a car chair television bike apple book car dog elephant flower guitar house island jewel kite lemon mountain notebook ocean piano queen river star tree umbrella violin waterfall xylophone yacht zebra airport bridge city desert earth forest garden harbor iceberg jungle kingdom lake moon nest oasis planet quilt rose sun tulip universe valley windmill x-ray algorithm balcony canyon dungeon enzyme fjord glacier horizon illusion jazz kaleidoscope labyrinth magma nebula oracle paradox quantum relic spectrum tundra utopia vortex willow xenophobia yield zenith artifact beacon chasm delta eclipse facade galaxy hologram iceberg junction knoll limbo mosaic nocturne obelisk parchment quadrant resonance silhouette tempest universe vigil watershed xylophone\n"
     ]
    }
   ],
   "source": [
    "# Specify the path to your YAML file\n",
    "file_path = 'nouns_to_generate.yaml'\n",
    "\n",
    "# Open the file and load its contents\n",
    "with open(file_path, 'r') as file:\n",
    "    nouns = yaml.safe_load(file)\n",
    "\n",
    "print(nouns)"
   ]
  },
  {
   "cell_type": "code",
   "execution_count": 8,
   "metadata": {},
   "outputs": [
    {
     "name": "stdout",
     "output_type": "stream",
     "text": [
      "Request successful.\n"
     ]
    }
   ],
   "source": [
    "api = WebuiAPI()"
   ]
  },
  {
   "cell_type": "code",
   "execution_count": 11,
   "metadata": {},
   "outputs": [
    {
     "name": "stdout",
     "output_type": "stream",
     "text": [
      "Request successful.\n",
      "Request successful.\n",
      "Request successful.\n",
      "Request successful.\n",
      "Request successful.\n",
      "Request successful.\n",
      "Request successful.\n",
      "Request successful.\n",
      "Request successful.\n",
      "Request successful.\n",
      "Request successful.\n",
      "Request successful.\n",
      "Request successful.\n",
      "Request successful.\n"
     ]
    }
   ],
   "source": [
    "batch_size = 4\n",
    "\n",
    "for noun in nouns:\n",
    "    imgs = api.generate_image(prompt=noun, steps=5, cfg_scale=2, width=1024, height=1024, batch_size=1)\n",
    "\n",
    "    for i, img in enumerate(imgs):\n",
    "        gray_img = cv2.cvtColor(img, cv2.COLOR_BGR2GRAY)\n",
    "        _, sketch = cv2.threshold(gray_img, 50, 255, 0)\n",
    "        cv2.imwrite(f\"./pseudo_img_sketch_dataset/sketches/{v}_{i}.png\", sketch)\n",
    "\n",
    "        sketch_to_imgs = api.generate_image(prompt=v, steps=5, cfg_scale=2, width=1024, height=1024, batch_size=batch_size, sketch=sketch)\n",
    "        for j, sk2img in enumerate(sketch_to_imgs):\n",
    "            if j == batch_size: break\n",
    "            cv2.imwrite(f\"./pseudo_img_sketch_dataset/imgs/{v}_{i}_{j}_img.png\", sk2img)"
   ]
  },
  {
   "cell_type": "code",
   "execution_count": null,
   "metadata": {},
   "outputs": [],
   "source": []
  }
 ],
 "metadata": {
  "kernelspec": {
   "display_name": "pl",
   "language": "python",
   "name": "python3"
  },
  "language_info": {
   "codemirror_mode": {
    "name": "ipython",
    "version": 3
   },
   "file_extension": ".py",
   "mimetype": "text/x-python",
   "name": "python",
   "nbconvert_exporter": "python",
   "pygments_lexer": "ipython3",
   "version": "3.10.13"
  }
 },
 "nbformat": 4,
 "nbformat_minor": 2
}
